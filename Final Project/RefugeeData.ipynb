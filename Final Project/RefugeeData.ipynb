{
 "cells": [
  {
   "cell_type": "markdown",
   "id": "d41f8342-3cab-427f-8881-7b0c67912724",
   "metadata": {},
   "source": [
    "# Final Project - Refugee Data Visualization\n",
    "\n",
    "Ben Heinze, Elizabeth Pauley\n",
    "\n",
    "CSCI-491 - Data Visualization\n",
    "\n",
    "3 May 2024\n",
    "\n",
    "### Dataset\n",
    "* [UNHCR Refugee Dataset link](https://github.com/rfordatascience/tidytuesday/tree/master/data/2023/2023-08-22)\n",
    "\n",
    "### Helpful Information\n",
    "- [What is a Host Community Member?](https://www.unhcr.org/us/publications/unhcr-ngo-toolkit-practical-cooperation-resettlement-community-outreach-outreach-0)\n",
    "- [What is Statelessness?](https://www.unhcr.org/ibelong/about-statelessness/)\n",
    "\n",
    "### Dataset Description\n",
    "\n",
    "| Variable          | Class     | Description                                                     |\n",
    "|-------------------|-----------|-----------------------------------------------------------------|\n",
    "| year              | int64     | The year.                                                       |\n",
    "| coo_name          | character | Country of origin name.                                         |\n",
    "| coo               | character | Country of origin UNHCR code.                                   |\n",
    "| coo_iso           | character | Country of origin ISO code.                                     |\n",
    "| coa_name          | character | Country of asylum name.                                         |\n",
    "| coa               | character | Country of asylum UNHCR code.                                   |\n",
    "| coa_iso           | character | Country of asylum ISO code.                                     |\n",
    "| refugees          | int64     | The number of refugees from COO in COA.                         |\n",
    "| asylum_seekers    | int64     | The number of asylum-seekers from COO in COA.                   |\n",
    "| returned_refugees | int64     | The number of refugees returned to COO from COA                 |\n",
    "| idps              | int64     | The number of internally displaced persons.                     |\n",
    "| returned_idps     | int64     | The number of returned internally displaced persons.            |\n",
    "| stateless         | int64     | The number of stateless persons.                                |\n",
    "| ooc               | int64     | The number of others of concern to UNHCR.                       |\n",
    "| oip               | float     | The number of other people in need of international protection. |\n",
    "| hst               | float     | The number of host community members.                           |\n",
    "\n",
    "### Questions we Hope to Answer\n",
    "1. Is there correlation between the country of origin of refugees and the countries where they seek aslyum?\n",
    "2. Which countries have the highest proportion of returned-refugees to refugees?\n",
    "3. PCA (TBD)\n",
    "4. Clustering (TBD)\n",
    "5. Statelessness (TBD)\n",
    "\n",
    "## Setup\n",
    "\n",
    "---"
   ]
  },
  {
   "cell_type": "code",
   "id": "ee69fb9a-64c7-401c-a542-19e0b552c072",
   "metadata": {
    "ExecuteTime": {
     "end_time": "2024-04-30T22:42:03.221853Z",
     "start_time": "2024-04-30T22:41:58.214716Z"
    }
   },
   "source": [
    "import numpy as np\n",
    "import pandas as dp\n",
    "\n",
    "data = dp.read_csv(\"data/population.csv\")\n",
    "\n",
    "#removes repetitive columns (country or origin/asylum initials)\n",
    "data = data.drop(columns = ['coo','coo_iso','coa','coa_iso'])\n",
    "\n",
    "# Numerical data\n",
    "num_data = data.drop(columns = ['coo_name','coa_name'])"
   ],
   "outputs": [],
   "execution_count": 1
  },
  {
   "cell_type": "markdown",
   "id": "dd3cca02-d259-4211-b072-32fd6a56f441",
   "metadata": {},
   "source": [
    "## Preprocessing\n",
    "\n",
    "---\n",
    "\n",
    "Out of the entire dataset, only two columns has missing values: __oip__ and __hst__. Since they only have 100 and 5964 datapoints respectively out of 64809, we will not use a filling technique as the majority of the data is missing. __hst__ was only captured in 2022 and a fraction of 2021. __Learn more about oip's nulls; Choose to keep or drop these columns.__ \n",
    "\n",
    "## Question 1\n",
    "\n",
    "---\n",
    "\n",
    "Is there correlation between the country of origin of refugees and the countries where they seek asylum? Analyze this for both refugees and asylum_seekers, then compare and contrast."
   ]
  },
  {
   "metadata": {
    "ExecuteTime": {
     "end_time": "2024-04-30T22:52:33.350348Z",
     "start_time": "2024-04-30T22:52:32.926071Z"
    }
   },
   "cell_type": "code",
   "source": [
    "# dictionary of COO:COA, returned,\n",
    "year = 2010\n",
    "subframe = data[data['year'] == year]   #Gets dataframe of specific year\n",
    "\n",
    "d_coo = {}\n",
    "d_coa = {}\n",
    "result = []\n",
    "for index, series in subframe.iterrows():\n",
    "    coo = series['coo_name']\n",
    "    coa = series['coa_name']\n",
    "    asylum_seekers = series['asylum_seekers']\n",
    "    \n",
    "    # counts the number of asylum_seekers from COO to COA\n",
    "    if asylum_seekers != 0:\n",
    "        if coa not in d_coa:\n",
    "                d_coa[coa] = asylum_seekers\n",
    "        else:\n",
    "            d_coa[coa] += asylum_seekers\n",
    "    \n",
    "    if coo not in d_coo:\n",
    "        d_coo[coo] = [d_coa]\n",
    "    else:\n",
    "        d_coo[coo].append(d_coa)\n",
    "#print(d_coo)\n",
    "\n",
    "for key, value in d_coo.items():\n",
    "    print(f\"{key}: {value}\")"
   ],
   "id": "86d8e639de306363",
   "outputs": [
    {
     "name": "stderr",
     "output_type": "stream",
     "text": [
      "IOPub data rate exceeded.\n",
      "The Jupyter server will temporarily stop sending output\n",
      "to the client in order to avoid crashing it.\n",
      "To change this limit, set the config variable\n",
      "`--ServerApp.iopub_data_rate_limit`.\n",
      "\n",
      "Current values:\n",
      "ServerApp.iopub_data_rate_limit=1000000.0 (bytes/sec)\n",
      "ServerApp.rate_limit_window=3.0 (secs)\n",
      "\n"
     ]
    }
   ],
   "execution_count": 4
  },
  {
   "metadata": {},
   "cell_type": "markdown",
   "source": [
    "## Question 2\n",
    "\n",
    "---\n",
    "\n",
    "Which countries have the highest proportion of returned-refugees to refugees?"
   ],
   "id": "e96dc8d3ebe06444"
  },
  {
   "metadata": {
    "ExecuteTime": {
     "end_time": "2024-04-30T22:42:04.255623Z",
     "start_time": "2024-04-30T22:42:03.817519Z"
    }
   },
   "cell_type": "code",
   "source": [
    "year = 2010\n",
    "subframe = data[data['year'] == year]   #Gets dataframe of specific year\n",
    "\n",
    "# Gets total refugees who left from their country of origin; country:number\n",
    "totalRefugeesFromCOO = {}\n",
    "for index, series in subframe.iterrows(): \n",
    "    coo_name = series['coo_name']\n",
    "    refugees = series['refugees']\n",
    "\n",
    "    if coo_name not in totalRefugeesFromCOO:\n",
    "        totalRefugeesFromCOO[coo_name] = refugees\n",
    "    else:\n",
    "        totalRefugeesFromCOO[coo_name] += refugees\n",
    "print(f\"Total Refugees from Country of Origin:\\n{totalRefugeesFromCOO}\")\n",
    "\n",
    "# Gets total returned refugees from to country of origin\n",
    "totalReturnedRefugeesFromCOO = {}\n",
    "for index, series in subframe.iterrows(): \n",
    "    coo_name = series['coo_name']\n",
    "    returnedRefugees = series['returned_refugees']\n",
    "\n",
    "    if coo_name not in totalReturnedRefugeesFromCOO:\n",
    "        totalReturnedRefugeesFromCOO[coo_name] = returnedRefugees\n",
    "    else:\n",
    "        totalReturnedRefugeesFromCOO[coo_name] += returnedRefugees\n",
    "print(f\"\\n\\nTotal Refugees Returned to Country of Origin:\\n{totalReturnedRefugeesFromCOO}\")\n"
   ],
   "id": "511b6ec90ac95ed0",
   "outputs": [
    {
     "name": "stdout",
     "output_type": "stream",
     "text": [
      "Total Refugees from Country of Origin:\n",
      "{'Afghanistan': 3054699, 'Iran (Islamic Rep. of)': 68785, 'Iraq': 1683576, 'Pakistan': 39979, 'Egypt': 6903, 'China': 184601, 'Palestinian': 93312, 'Serbia and Kosovo: S/RES/1244 (1999)': 183284, 'Türkiye': 146785, 'Angola': 134851, 'Benin': 438, 'Chad': 53713, 'Cameroon': 14952, 'Congo': 20682, 'Dem. Rep. of the Congo': 476691, 'Guinea': 11978, \"Cote d'Ivoire\": 41747, 'Liberia': 70133, 'Libya': 2297, 'Niger': 794, 'Nigeria': 15645, 'Somalia': 770141, 'Sudan': 387265, 'Western Sahara': 116411, 'Burundi': 84053, 'Central African Rep.': 164902, 'Eritrea': 222457, 'Ethiopia': 68838, 'Guinea-Bissau': 1117, 'Mauritania': 37721, 'Rwanda': 115519, 'Senegal': 16255, 'Sierra Leone': 11261, 'United Rep. of Tanzania': 1135, 'Unknown': 167115, 'Algeria': 6665, 'Djibouti': 556, 'Kazakhstan': 3631, 'Mali': 3659, 'Russian Federation': 111944, 'Saudi Arabia': 659, 'Syrian Arab Rep.': 18451, 'Tajikistan': 573, 'Turkmenistan': 723, 'Tunisia': 2159, 'Uganda': 6421, 'Uzbekistan': 8841, 'Yemen': 2070, 'Zimbabwe': 24080, 'Stateless': 16914, 'Albania': 14771, 'Armenia': 17553, 'Bangladesh': 10046, 'Bolivia (Plurinational State of)': 589, 'Bosnia and Herzegovina': 62996, 'Chile': 1163, 'Colombia': 395579, 'Costa Rica': 352, 'Cuba': 7460, 'Dominican Rep.': 238, 'Ecuador': 859, 'Georgia': 10636, 'Ghana': 20175, 'Haiti': 25886, 'Honduras': 1300, 'Hungary': 1435, 'India': 17766, 'Kyrgyzstan': 2748, 'Sri Lanka': 141064, 'Paraguay': 86, 'Peru': 5834, 'Romania': 3926, 'South Africa': 374, 'El Salvador': 4978, 'Spain': 41, 'Ukraine': 25102, 'United States of America': 3019, 'Venezuela (Bolivarian Republic of)': 6697, 'Azerbaijan': 16756, 'Israel': 1290, 'Lebanon': 15864, 'Bahrain': 81, 'Belarus': 5735, 'Brazil': 991, 'Bulgaria': 2558, 'Cambodia': 16308, 'Czechia': 811, 'Fiji': 1849, 'France': 90, 'Gambia': 2233, 'United Kingdom of Great Britain and Northern Ireland': 152, 'Greece': 52, 'Croatia': 65863, 'Indonesia': 16882, 'Jordan': 2248, 'Japan': 149, 'Kenya': 8585, 'Rep. of Korea': 578, \"Dem. People's Rep. of Korea\": 915, 'Kuwait': 986, \"Lao People's Dem. Rep.\": 8412, 'Latvia': 712, 'Malaysia': 550, 'Mongolia': 1720, 'Morocco': 2276, 'Mauritius': 25, 'Myanmar': 415662, 'Nepal': 5883, 'Philippines': 963, 'Papua New Guinea': 87, 'Singapore': 74, 'Solomon Islands': 75, 'Viet Nam': 338707, 'Thailand': 351, 'Timor-Leste': 8, 'Togo': 18308, 'Tonga': 5, 'Zambia': 221, 'Tibetan': 15081, 'Burkina Faso': 1141, 'Estonia': 242, 'Gabon': 167, 'Guatemala': 5675, 'North Macedonia': 7880, 'Rep. of Moldova': 6204, 'Montenegro': 3243, 'Slovakia': 157, 'Comoros': 365, 'Germany': 159, 'Lithuania': 508, 'Poland': 1758, 'Uruguay': 185, 'Equatorial Guinea': 306, 'Namibia': 1013, 'Argentina': 553, 'Bhutan': 75062, 'Antigua and Barbuda': 28, 'Australia': 38, 'Barbados': 29, 'Belgium': 80, 'Bahamas': 17, 'Botswana': 56, 'Belize': 21, 'Denmark': 6, 'Dominica': 51, 'Grenada': 344, 'Guyana': 746, 'China, Hong Kong SAR': 16, 'Ireland': 7, 'Italy': 45, 'Jamaica': 1055, 'Saint Lucia': 334, 'Lesotho': 5, 'Madagascar': 266, 'Mexico': 6809, 'Malawi': 168, 'Mozambique': 120, 'Netherlands (Kingdom of the)': 52, 'Nicaragua': 1426, 'Oman': 62, 'Panama': 94, 'Portugal': 29, 'Qatar': 109, 'Seychelles': 47, 'Saint Kitts and Nevis': 10, 'Suriname': 24, 'Slovenia': 35, 'Eswatini': 32, 'Sweden': 23, 'Switzerland': 20, 'Trinidad and Tobago': 252, 'United Arab Emirates': 418, 'Saint Vincent and the Grenadines': 946, 'Cyprus': 10, 'Canada': 86, 'Sao Tome and Principe': 32, 'Maldives': 16, 'Cabo Verde': 22, 'New Zealand': 11, 'China, Macao SAR': 8, 'Kiribati': 31, 'Austria': 10, 'Andorra': 5, 'Finland': 6, 'Iceland': 5, 'Malta': 5}\n",
      "\n",
      "\n",
      "Total Refugees Returned to Country of Origin:\n",
      "{'Afghanistan': 118031, 'Iran (Islamic Rep. of)': 21, 'Iraq': 28888, 'Pakistan': 0, 'Egypt': 0, 'China': 0, 'Palestinian': 13, 'Serbia and Kosovo: S/RES/1244 (1999)': 397, 'Türkiye': 255, 'Angola': 487, 'Benin': 0, 'Chad': 39, 'Cameroon': 0, 'Congo': 98, 'Dem. Rep. of the Congo': 16632, 'Guinea': 0, \"Cote d'Ivoire\": 46, 'Liberia': 1301, 'Libya': 0, 'Niger': 0, 'Nigeria': 0, 'Somalia': 34, 'Sudan': 7064, 'Western Sahara': 0, 'Burundi': 4760, 'Central African Rep.': 51, 'Eritrea': 0, 'Ethiopia': 5, 'Guinea-Bissau': 0, 'Mauritania': 1391, 'Rwanda': 10900, 'Senegal': 0, 'Sierra Leone': 0, 'United Rep. of Tanzania': 0, 'Unknown': 0, 'Algeria': 5, 'Djibouti': 0, 'Kazakhstan': 0, 'Mali': 0, 'Russian Federation': 39, 'Saudi Arabia': 0, 'Syrian Arab Rep.': 0, 'Tajikistan': 0, 'Turkmenistan': 0, 'Tunisia': 0, 'Uganda': 58, 'Uzbekistan': 0, 'Yemen': 0, 'Zimbabwe': 180, 'Stateless': 0, 'Albania': 0, 'Armenia': 0, 'Bangladesh': 0, 'Bolivia (Plurinational State of)': 0, 'Bosnia and Herzegovina': 905, 'Chile': 0, 'Colombia': 32, 'Costa Rica': 0, 'Cuba': 0, 'Dominican Rep.': 0, 'Ecuador': 0, 'Georgia': 5, 'Ghana': 0, 'Haiti': 0, 'Honduras': 0, 'Hungary': 0, 'India': 0, 'Kyrgyzstan': 0, 'Sri Lanka': 5061, 'Paraguay': 0, 'Peru': 0, 'Romania': 0, 'South Africa': 0, 'El Salvador': 0, 'Spain': 0, 'Ukraine': 0, 'United States of America': 0, 'Venezuela (Bolivarian Republic of)': 0, 'Azerbaijan': 0, 'Israel': 0, 'Lebanon': 0, 'Bahrain': 0, 'Belarus': 0, 'Brazil': 0, 'Bulgaria': 0, 'Cambodia': 0, 'Czechia': 0, 'Fiji': 0, 'France': 0, 'Gambia': 0, 'United Kingdom of Great Britain and Northern Ireland': 0, 'Greece': 0, 'Croatia': 469, 'Indonesia': 0, 'Jordan': 0, 'Japan': 0, 'Kenya': 324, 'Rep. of Korea': 0, \"Dem. People's Rep. of Korea\": 0, 'Kuwait': 0, \"Lao People's Dem. Rep.\": 0, 'Latvia': 0, 'Malaysia': 0, 'Mongolia': 0, 'Morocco': 0, 'Mauritius': 0, 'Myanmar': 0, 'Nepal': 0, 'Philippines': 0, 'Papua New Guinea': 0, 'Singapore': 0, 'Solomon Islands': 0, 'Viet Nam': 0, 'Thailand': 0, 'Timor-Leste': 0, 'Togo': 35, 'Tonga': 0, 'Zambia': 0, 'Tibetan': 0, 'Burkina Faso': 0, 'Estonia': 0, 'Gabon': 0, 'Guatemala': 0, 'North Macedonia': 0, 'Rep. of Moldova': 0, 'Montenegro': 0, 'Slovakia': 0, 'Comoros': 0, 'Germany': 0, 'Lithuania': 0, 'Poland': 0, 'Uruguay': 0, 'Equatorial Guinea': 0, 'Namibia': 28, 'Argentina': 0, 'Bhutan': 0, 'Antigua and Barbuda': 0, 'Australia': 0, 'Barbados': 0, 'Belgium': 0, 'Bahamas': 0, 'Botswana': 0, 'Belize': 0, 'Denmark': 0, 'Dominica': 0, 'Grenada': 0, 'Guyana': 0, 'China, Hong Kong SAR': 0, 'Ireland': 0, 'Italy': 0, 'Jamaica': 0, 'Saint Lucia': 0, 'Lesotho': 0, 'Madagascar': 0, 'Mexico': 0, 'Malawi': 0, 'Mozambique': 5, 'Netherlands (Kingdom of the)': 0, 'Nicaragua': 20, 'Oman': 0, 'Panama': 0, 'Portugal': 0, 'Qatar': 0, 'Seychelles': 0, 'Saint Kitts and Nevis': 0, 'Suriname': 0, 'Slovenia': 0, 'Eswatini': 0, 'Sweden': 0, 'Switzerland': 0, 'Trinidad and Tobago': 0, 'United Arab Emirates': 0, 'Saint Vincent and the Grenadines': 0, 'Cyprus': 0, 'Canada': 0, 'Sao Tome and Principe': 0, 'Maldives': 0, 'Cabo Verde': 0, 'New Zealand': 0, 'China, Macao SAR': 0, 'Kiribati': 0, 'Austria': 0, 'Andorra': 0, 'Finland': 0, 'Iceland': 0, 'Malta': 0}\n"
     ]
    }
   ],
   "execution_count": 3
  }
 ],
 "metadata": {
  "kernelspec": {
   "display_name": "Python 3 (ipykernel)",
   "language": "python",
   "name": "python3"
  },
  "language_info": {
   "codemirror_mode": {
    "name": "ipython",
    "version": 3
   },
   "file_extension": ".py",
   "mimetype": "text/x-python",
   "name": "python",
   "nbconvert_exporter": "python",
   "pygments_lexer": "ipython3",
   "version": "3.12.3"
  }
 },
 "nbformat": 4,
 "nbformat_minor": 5
}
