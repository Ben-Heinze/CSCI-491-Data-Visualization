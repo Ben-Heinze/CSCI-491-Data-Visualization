{
 "cells": [
  {
   "cell_type": "markdown",
   "id": "d41f8342-3cab-427f-8881-7b0c67912724",
   "metadata": {},
   "source": [
    "# Final Project - Refugee Data Visualization\n",
    "\n",
    "Ben Heinze, Elizabeth Pauley\n",
    "\n",
    "CSCI-491 - Data Visualizatoin\n",
    "\n",
    "3 May 2024\n",
    "\n",
    "### Dataset\n",
    "* [Refugee Dataset link](https://github.com/rfordatascience/tidytuesday/tree/master/data/2023/2023-08-22)\n",
    "\n",
    "### Helpful Information\n",
    "- [What is a Host Community Member?](https://www.unhcr.org/us/publications/unhcr-ngo-toolkit-practical-cooperation-resettlement-community-outreach-outreach-0)\n",
    "- [What is Statelessness?](https://www.unhcr.org/ibelong/about-statelessness/)\n",
    "\n",
    "### Dataset Description\n",
    "\n",
    "| Variable          | Class     | Description                                                      |\n",
    "|-------------------|-----------|------------------------------------------------------------------|\n",
    "| year              | int64     | The year.                                                        |\n",
    "| coo_name          | character | Country of origin name.                                          |\n",
    "| coo               | character | Country of origin UNHCR code.                                    |\n",
    "| coo_iso           | character | Country of origin ISO code.                                      |\n",
    "| coa_name          | character | Country of asylum name.                                          |\n",
    "| coa               | character | Country of asylum UNHCR code.                                    |\n",
    "| coa_iso           | character | Country of asylum ISO code.                                      |\n",
    "| refugees          | int64     | The number of refugees.                                          |\n",
    "| asylum_seekers    | int64     | The number of asylum-seekers.                                    |\n",
    "| returned_refugees | int64     | The number of returned refugees.                                 |\n",
    "| idps              | int64     | The number of internally displaced persons.                      |\n",
    "| returned_idps     | int64     | The number of returned internally displaced persons.             |\n",
    "| stateless         | int64     | The number of stateless persons.                                 |\n",
    "| ooc               | int64     |The number of others of concern to UNHCR.                         |\n",
    "| oip               | float     | The number of other people in need of international protection.  |\n",
    "| hst               | float     | The number of host community members.                            |\n",
    "\n",
    "### Questions we Hope to Answer\n",
    "1. Is there correlation between the country of origin of refugees and the countries where they seek aslyum?\n",
    "2. Which countries have the highest proportion of returned-refugees to refugees?\n",
    "3. PCA (TBD)\n",
    "4. Clustering (TBD)\n",
    "5. Statelessness (TBD)\n",
    "\n",
    "## Setup\n",
    "\n",
    "---"
   ]
  },
  {
   "cell_type": "code",
   "execution_count": 1,
   "id": "ee69fb9a-64c7-401c-a542-19e0b552c072",
   "metadata": {},
   "outputs": [
    {
     "name": "stdout",
     "output_type": "stream",
     "text": [
      "<class 'pandas.core.frame.DataFrame'>\n",
      "RangeIndex: 64809 entries, 0 to 64808\n",
      "Data columns (total 12 columns):\n",
      " #   Column             Non-Null Count  Dtype  \n",
      "---  ------             --------------  -----  \n",
      " 0   year               64809 non-null  int64  \n",
      " 1   coo_name           64809 non-null  object \n",
      " 2   coa_name           64809 non-null  object \n",
      " 3   refugees           64809 non-null  int64  \n",
      " 4   asylum_seekers     64809 non-null  int64  \n",
      " 5   returned_refugees  64809 non-null  int64  \n",
      " 6   idps               64809 non-null  int64  \n",
      " 7   returned_idps      64809 non-null  int64  \n",
      " 8   stateless          64809 non-null  int64  \n",
      " 9   ooc                64809 non-null  int64  \n",
      " 10  oip                100 non-null    float64\n",
      " 11  hst                5964 non-null   float64\n",
      "dtypes: float64(2), int64(8), object(2)\n",
      "memory usage: 5.9+ MB\n",
      "None\n"
     ]
    }
   ],
   "source": [
    "import numpy as np\n",
    "import pandas as dp\n",
    "\n",
    "data = dp.read_csv(\"data/population.csv\")\n",
    "\n",
    "#removes repetitive columns (country or origin/asylum initials)\n",
    "data = data.drop(columns = ['coo','coo_iso','coa','coa_iso'])\n",
    "print(data.info())\n",
    "\n",
    "# Numerical data\n",
    "num_data = data.drop(columns = ['coo_name','coa_name'])"
   ]
  },
  {
   "cell_type": "markdown",
   "id": "dd3cca02-d259-4211-b072-32fd6a56f441",
   "metadata": {},
   "source": [
    "## Preprocessing\n",
    "\n",
    "---\n",
    "\n",
    "Out of the entire dataset, only two columns has missing values: __oip__ and __hst__. Since they only have 100 and 5964 datapoints respectively out of 64809, we will not use a filling technique as the majority of the data is missing. __hst__ was only captured in 2022 and a fraction of 2021. __Learn more about oip's nulls; Choose to keep or drop these columns.__ \n",
    "\n",
    "## Question 1\n",
    "\n",
    "---\n",
    "\n",
    "Is there correlation between the country of origin of refugees and the countries where they seek aslyum?"
   ]
  }
 ],
 "metadata": {
  "kernelspec": {
   "display_name": "Python 3 (ipykernel)",
   "language": "python",
   "name": "python3"
  },
  "language_info": {
   "codemirror_mode": {
    "name": "ipython",
    "version": 3
   },
   "file_extension": ".py",
   "mimetype": "text/x-python",
   "name": "python",
   "nbconvert_exporter": "python",
   "pygments_lexer": "ipython3",
   "version": "3.12.3"
  }
 },
 "nbformat": 4,
 "nbformat_minor": 5
}
