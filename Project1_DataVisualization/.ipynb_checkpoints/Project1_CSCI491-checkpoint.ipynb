{
 "cells": [
  {
   "cell_type": "markdown",
   "id": "a85f2276-62ca-4c39-bf93-78567a3968d9",
   "metadata": {},
   "source": [
    "# **Project 1 : Data Visualization 491**\n",
    "Ben Heinze\\\n",
    "16 February 2024"
   ]
  },
  {
   "cell_type": "markdown",
   "id": "6689feea-c55e-4383-860e-6003eba9bceb",
   "metadata": {},
   "source": [
    "## Database Information\n",
    "* [PhD Dataset Information](https://vincentarelbundock.github.io/Rdatasets/doc/AER/PhDPublications.html)\n",
    "* [Diamond Dataset Information](https://ggplot2.tidyverse.org/reference/diamonds.html)"
   ]
  },
  {
   "cell_type": "markdown",
   "id": "6651bde3-11a7-4f0a-8510-c0c9898a3e7b",
   "metadata": {},
   "source": [
    "## Helpful Links for peronsal use\n",
    "* [Pandas Frame Documentation](https://pandas.pydata.org/docs/reference/frame.html)\n",
    "* [Markdown Format Cheatsheet](https://github.com/adam-p/markdown-here/wiki/Markdown-Cheatsheet)"
   ]
  },
  {
   "cell_type": "markdown",
   "id": "5bf82686-f662-40e3-8d9d-c30483aded7b",
   "metadata": {},
   "source": [
    "### Setup\n",
    "Before we create any graphs, it's necessary to import our two data sets **phDPublications.csv** and **diamonsd.csv** into our notebook:"
   ]
  },
  {
   "cell_type": "code",
   "execution_count": 1,
   "id": "d47a1c17-c18f-4fdd-86ec-144034d9f42c",
   "metadata": {},
   "outputs": [],
   "source": [
    "import pandas as pd  \n",
    "import numpy as np\n",
    "from matplotlib import pyplot as plt \n",
    "phdPub = pd.read_csv(\"phDPublications.csv\")\n",
    "diamonds = pd.read_csv(\"diamonds.csv\")"
   ]
  },
  {
   "cell_type": "markdown",
   "id": "ba082943-34b7-4ecb-b3f2-e8df3af227a3",
   "metadata": {},
   "source": [
    "## **1. PhD Publication Data Set**\n",
    "The *PhD Publication* data set will be the first one analyzed; We will look to answer three interesting questions by visualizing them with three different bar plots:\n",
    "\n",
    "**1. Simple bar plot:** The number of articles published by a student compared to how many kids they have. \\\n",
    "**2. Grouped bar plot:** Illustrate the number of single men, single women, married men and married women and their individual correlation with how many articles their mentor has published. \\\n",
    "**3. Stacked bar plot:** Compare the prestige against men, married men, woman, and married woman."
   ]
  },
  {
   "cell_type": "code",
   "execution_count": 2,
   "id": "f706d5d9-4674-489b-92e0-3670e773e2bd",
   "metadata": {},
   "outputs": [],
   "source": [
    "#1. Simple bar plot: The number of articles published by a student compared to how many kids they have\n"
   ]
  },
  {
   "cell_type": "code",
   "execution_count": 3,
   "id": "23dbfd94-3e35-41d9-8a41-0e50397bbbdc",
   "metadata": {},
   "outputs": [],
   "source": [
    "#2. Grouped bar plot: Illustrate the number of single men, single women, married men and married women and their individual correlation with how many articles their mentor has published.\n"
   ]
  },
  {
   "cell_type": "code",
   "execution_count": 4,
   "id": "9d8134a5-f632-4f31-b7f4-79c9c4c93779",
   "metadata": {},
   "outputs": [],
   "source": [
    "#3. Stacked bar plot: Compare the prestige against men, married men, woman, and married woman.\n"
   ]
  },
  {
   "cell_type": "markdown",
   "id": "cd0ce124-4af5-4ff7-acab-340f05dfb914",
   "metadata": {},
   "source": [
    "## Alternatives"
   ]
  },
  {
   "cell_type": "code",
   "execution_count": 5,
   "id": "8239255d-1af8-43b5-84e9-990c05271827",
   "metadata": {},
   "outputs": [],
   "source": [
    "#1. Dot Plot: The number of articles published by a student compared to how many kids they have\n",
    "#x axis: number of kids\n",
    "#y axis: number of articles published\n",
    "#color: blue/pink for respective gender"
   ]
  },
  {
   "cell_type": "code",
   "execution_count": 15,
   "id": "fccef565-7c25-4550-9fae-11bcf50a34a6",
   "metadata": {},
   "outputs": [
    {
     "data": {
      "image/png": "[encoded data removed]",
      "text/plain": [
       "<Figure size 640x480 with 1 Axes>"
      ]
     },
     "metadata": {},
     "output_type": "display_data"
    }
   ],
   "source": [
    "#2. Box Plot: Illustrate the number of single men, single women, married men and married women and their individual correlation with how many articles their mentor has published.\n",
    "'''\n",
    "groupby sorts every combination of genders and marital status and divides them\n",
    "into different dataframes. It returns an iterable of every df it created. \n",
    "\n",
    "Below, we created every combo of gender (m/f) and marital status (yes/no).\n",
    "'''\n",
    "groupData = phdPub.groupby([\"gender\", \"married\"])\n",
    "\n",
    "labels=[]\n",
    "plotData=[]\n",
    "for (gender, married), group in groupData: \n",
    "    label = (\"Married\" if married == 'yes' else \"Single\") #label is marital status\n",
    "    label += (\" Female\" if gender == 'female' else \" Male\") #appends gender\n",
    "    labels.append(label)\n",
    "    plotData.append(group[\"prestige\"])\n",
    "plt.boxplot(plotData, labels=labels)\n",
    "plt.yticks(np.arange(0,5.5,step=0.5))\n",
    "\n",
    "plt.show()\n"
   ]
  },
  {
   "cell_type": "code",
   "execution_count": null,
   "id": "00fcf55b-edaa-4590-8434-9267768e42b8",
   "metadata": {},
   "outputs": [],
   "source": [
    "#3. Strip Chart: Compare the prestige against men, married men, woman, and married woman.\n"
   ]
  },
  {
   "cell_type": "markdown",
   "id": "13688fb6-4efb-4331-a9f8-75a798aee1fd",
   "metadata": {},
   "source": [
    "## **2. Diamond Data Set**\n",
    "Next, we will focus our attention on the *Diamond* data set. Questions to answer about the diamond dataset include:\n",
    "1. QUESTION1 (PLOTTYPE)\n",
    "2. QUESTION2 (PLOTTYPE)\n",
    "3. QUESTION3 (PLOTTYPE)"
   ]
  },
  {
   "cell_type": "code",
   "execution_count": null,
   "id": "dda36dff-fc0a-4e96-a70e-a01f5b14fcbb",
   "metadata": {},
   "outputs": [],
   "source": [
    "#continue diamond plots here\n",
    "print(diamonds)"
   ]
  },
  {
   "cell_type": "markdown",
   "id": "a768e44e-92a2-4b9c-ac3c-459e46635791",
   "metadata": {},
   "source": [
    "## **3. Recent news-source plots**\n",
    "Next, we will evaluate amount and distribution data plots and their effectiveness to display data for the given question. It is important to stay mindful of the Trifecta Checkup framework to keep track of the question and goal the graph is attempting to visualize.\n",
    "1. Amount dataplot (link here)\n",
    "2. Distribution dataplot (link here)\n"
   ]
  },
  {
   "cell_type": "code",
   "execution_count": null,
   "id": "4dd405b1-ce73-41e0-bd48-da99eb95f390",
   "metadata": {},
   "outputs": [],
   "source": []
  }
 ],
 "metadata": {
  "kernelspec": {
   "display_name": "Python 3 (ipykernel)",
   "language": "python",
   "name": "python3"
  },
  "language_info": {
   "codemirror_mode": {
    "name": "ipython",
    "version": 3
   },
   "file_extension": ".py",
   "mimetype": "text/x-python",
   "name": "python",
   "nbconvert_exporter": "python",
   "pygments_lexer": "ipython3",
   "version": "3.11.8"
  }
 },
 "nbformat": 4,
 "nbformat_minor": 5
}
