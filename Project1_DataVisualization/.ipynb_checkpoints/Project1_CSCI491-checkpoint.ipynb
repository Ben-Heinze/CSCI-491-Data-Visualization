{
 "cells": [
  {
   "cell_type": "markdown",
   "id": "a85f2276-62ca-4c39-bf93-78567a3968d9",
   "metadata": {},
   "source": [
    "# **Project 1 : Data Visualization 491**\n",
    "Ben Heinze, Elizabeth Pauley\\\n",
    "16 February 2024\n",
    "\n"
   ]
  },
  {
   "cell_type": "markdown",
   "id": "6689feea-c55e-4383-860e-6003eba9bceb",
   "metadata": {},
   "source": [
    "## Database Information\n",
    "\n",
    "* [PhD Dataset Information](https://vincentarelbundock.github.io/Rdatasets/doc/AER/PhDPublications.html)\n",
    "* [Diamond Dataset Information](https://ggplot2.tidyverse.org/reference/diamonds.html)"
   ]
  },
  {
   "cell_type": "markdown",
   "id": "6651bde3-11a7-4f0a-8510-c0c9898a3e7b",
   "metadata": {},
   "source": [
    "## Helpful Links for personal use\n",
    "\n",
    "* [Pandas Frame Documentation](https://pandas.pydata.org/docs/reference/frame.html)\n",
    "* [Markdown Format Cheatsheet](https://github.com/adam-p/markdown-here/wiki/Markdown-Cheatsheet)\n",
    "* [Joypy Ridgeline Cheatsheet](https://python-charts.com/distribution/ridgeline-plot-matplotlib/)"
   ]
  },
  {
   "cell_type": "markdown",
   "id": "5bf82686-f662-40e3-8d9d-c30483aded7b",
   "metadata": {},
   "source": [
    "### Setup\n",
    "\n",
    "Before we create any graphs, it's necessary to import our two data sets **phDPublications.csv** and **diamonds.csv** into our notebook:"
   ]
  },
  {
   "cell_type": "code",
   "execution_count": 158,
   "id": "d47a1c17-c18f-4fdd-86ec-144034d9f42c",
   "metadata": {},
   "outputs": [
    {
     "ename": "ModuleNotFoundError",
     "evalue": "No module named 'joypy'",
     "output_type": "error",
     "traceback": [
      "\u001b[1;31m---------------------------------------------------------------------------\u001b[0m",
      "\u001b[1;31mModuleNotFoundError\u001b[0m                       Traceback (most recent call last)",
      "Cell \u001b[1;32mIn[158], line 6\u001b[0m\n\u001b[0;32m      4\u001b[0m \u001b[38;5;28;01mimport\u001b[39;00m \u001b[38;5;21;01mseaborn\u001b[39;00m \u001b[38;5;28;01mas\u001b[39;00m \u001b[38;5;21;01msns\u001b[39;00m\n\u001b[0;32m      5\u001b[0m \u001b[38;5;28;01mfrom\u001b[39;00m \u001b[38;5;21;01mmatplotlib\u001b[39;00m \u001b[38;5;28;01mimport\u001b[39;00m pyplot \u001b[38;5;28;01mas\u001b[39;00m plt \n\u001b[1;32m----> 6\u001b[0m \u001b[38;5;28;01mimport\u001b[39;00m \u001b[38;5;21;01mjoypy\u001b[39;00m\n\u001b[0;32m      7\u001b[0m phdPub \u001b[38;5;241m=\u001b[39m pd\u001b[38;5;241m.\u001b[39mread_csv(\u001b[38;5;124m\"\u001b[39m\u001b[38;5;124mphDPublications.csv\u001b[39m\u001b[38;5;124m\"\u001b[39m)\n\u001b[0;32m      8\u001b[0m diamonds \u001b[38;5;241m=\u001b[39m pd\u001b[38;5;241m.\u001b[39mread_csv(\u001b[38;5;124m\"\u001b[39m\u001b[38;5;124mdiamonds.csv\u001b[39m\u001b[38;5;124m\"\u001b[39m)\n",
      "\u001b[1;31mModuleNotFoundError\u001b[0m: No module named 'joypy'"
     ]
    }
   ],
   "source": [
    "import pandas as pd  \n",
    "import numpy as np\n",
    "import sklearn\n",
    "import seaborn as sns\n",
    "from matplotlib import pyplot as plt \n",
    "import joypy\n",
    "phdPub = pd.read_csv(\"phDPublications.csv\")\n",
    "diamonds = pd.read_csv(\"diamonds.csv\")"
   ]
  },
  {
   "cell_type": "markdown",
   "id": "ba082943-34b7-4ecb-b3f2-e8df3af227a3",
   "metadata": {},
   "source": [
    "---\n",
    "\n",
    "# **1. PhD Publication Data Set**\n",
    "The *PhD Publication* data set will be the first one analyzed; We will look to answer three interesting questions by visualizing them with three different bar plots:\n",
    "\n",
    "**1. Simple bar plot:** The number of articles published by a student compared to how many kids they have. \n",
    "\n",
    "**2. Grouped bar plot:** Illustrate the number of single men, single women, married men and married women and their individual correlation with how many articles their mentor has published. \n",
    "\n",
    "**3. Stacked bar plot:** Compare the prestige against single men, married men, single woman, and married woman.\n",
    "\n",
    "**4. Box plot** Another visual for the prestige against single men, married men, single woman, and married woman."
   ]
  },
  {
   "cell_type": "markdown",
   "id": "176fa67c-efd6-45a0-9905-5237af89beb9",
   "metadata": {},
   "source": [
    "## 1. Simple Bar Plot"
   ]
  },
  {
   "cell_type": "code",
   "execution_count": null,
   "id": "f706d5d9-4674-489b-92e0-3670e773e2bd",
   "metadata": {},
   "outputs": [],
   "source": [
    "#1. Simple bar plot: The number of articles published by a student compared to how many kids they have\n",
    "fig = plt.figure(figsize = (5,5))\n",
    "ax = plt.axes()\n",
    "ax.bar(phdPub['kids'], phdPub['articles'])\n",
    "plt.xticks(np.arange(0,4,step=1))\n",
    "plt.yticks(np.arange(0,20,step=1))\n",
    "ax.set_title('Number of Articles Published vs Number of Kids a Student Has')\n",
    "ax.set_xlabel(\"Number of Kids\")\n",
    "ax.set_ylabel(\"Number of Articles Published\")"
   ]
  },
  {
   "cell_type": "markdown",
   "id": "8c2f12d5-9291-4f4e-94a5-48f35b60b0cb",
   "metadata": {},
   "source": [
    "---\n",
    "\n",
    "## 2. Grouped Bar Plot"
   ]
  },
  {
   "cell_type": "code",
   "execution_count": null,
   "id": "23dbfd94-3e35-41d9-8a41-0e50397bbbdc",
   "metadata": {},
   "outputs": [],
   "source": [
    "#2. Grouped bar plot: Illustrate the number of single men, single women, married men and married women and their individual correlation with how many articles their mentor has published.\n",
    "\n",
    "# group by married and gender categories\n",
    "# sum the values in the 'articles' column\n",
    "# reset_index() reformats the dataframe to make it easier to access columns\n",
    "# and perform future computations\n",
    "groupedBarData = phdPub.groupby(['married', 'gender'])['articles'].sum().reset_index()\n",
    "groupedBarData\n",
    "\n",
    "male = groupedBarData[groupedBarData['gender'] =='male']\n",
    "female = groupedBarData[groupedBarData['gender'] =='female']\n",
    "\n",
    "x = np.arange(2)  # label locations\n",
    "width = 0.40  # width of the bars\n",
    "\n",
    "fig, ax = plt.subplots()\n",
    "rects1 = ax.bar(x - width/2, male['articles'], width, label='Male', color='lightgreen')\n",
    "rects2 = ax.bar(x + width/2, female['articles'], width, label='Female', color='purple')\n",
    "\n",
    "# Add some text for labels, title and custom x-axis tick labels, etc.\n",
    "ax.set_ylabel('Number of Articles Published')\n",
    "ax.set_xlabel('Marital Status')\n",
    "ax.set_title('Total Articles Published Based on Gender and Marital Status')\n",
    "ax.set_xticks(x, male['married'])\n",
    "ax.legend()\n",
    "\n",
    "fig.tight_layout()\n",
    "\n",
    "plt.show()"
   ]
  },
  {
   "cell_type": "markdown",
   "id": "c16d583d-da50-433a-b7e4-34ebe01e3a34",
   "metadata": {},
   "source": [
    "---\n",
    "\n",
    "## Stacked Bar Plot"
   ]
  },
  {
   "cell_type": "code",
   "execution_count": null,
   "id": "9d8134a5-f632-4f31-b7f4-79c9c4c93779",
   "metadata": {},
   "outputs": [],
   "source": [
    "#3. Stacked bar plot: Compare the prestige against men, married men, women, and married women.\n",
    "\n",
    "# group by married and gender categories\n",
    "# calculate the average prestige value for each category\n",
    "# reset_index() reformats the dataframe to make it easier to access columns\n",
    "# and perform future computations\n",
    "stackedBarData = phdPub.groupby(['married', 'gender'])['prestige'].mean().reset_index()\n",
    "stackedBarData\n",
    "\n",
    "married = stackedBarData[stackedBarData['married'] =='no']\n",
    "notMarried = stackedBarData[stackedBarData['married'] =='yes']\n",
    "\n",
    "width = 0.35      \n",
    "\n",
    "fig, ax = plt.subplots()\n",
    "\n",
    "ax.bar(married['gender'], married['prestige'], width, label='Married', color='red')\n",
    "ax.bar(married['gender'], married['prestige'], width, married['prestige'],\n",
    "       label='Not Married')\n",
    "\n",
    "ax.set_ylabel('Prestige')\n",
    "ax.set_title('Avg. Prestige by Gender and Marital Status')\n",
    "ax.legend()\n",
    "\n",
    "plt.show()"
   ]
  },
  {
   "cell_type": "markdown",
   "id": "8f9edb15-f9f4-4c15-9016-969eaa4f44b0",
   "metadata": {},
   "source": [
    "---\n",
    "\n",
    "## Box Plot"
   ]
  },
  {
   "cell_type": "code",
   "execution_count": null,
   "id": "fccef565-7c25-4550-9fae-11bcf50a34a6",
   "metadata": {},
   "outputs": [],
   "source": [
    "#2. Box Plot: Illustrate the number of single men, single women, married men and married women and their individual correlation with how many articles their mentor has published.\n",
    "'''\n",
    "groupby sorts every combination of genders and marital status and divides them\n",
    "into different dataframes. It returns an iterable of every df it created. \n",
    "\n",
    "Below, we created every combo of gender (m/f) and marital status (yes/no).\n",
    "'''\n",
    "groupData = phdPub.groupby([\"gender\", \"married\"])\n",
    "\n",
    "labels=[]\n",
    "plotData=[]\n",
    "for (gender, married), group in groupData: \n",
    "    label = (\"Married\" if married == 'yes' else \"Single\") #label is marital status\n",
    "    label += (\" Female\" if gender == 'female' else \" Male\") #appends gender\n",
    "    labels.append(label)\n",
    "    plotData.append(group[\"prestige\"])\n",
    "plt.boxplot(plotData, labels=labels)\n",
    "plt.yticks(np.arange(0,5.5,step=0.5))\n",
    "\n",
    "plt.show()\n"
   ]
  },
  {
   "cell_type": "code",
   "execution_count": null,
   "id": "00fcf55b-edaa-4590-8434-9267768e42b8",
   "metadata": {},
   "outputs": [],
   "source": [
    "#3. Strip Chart: Compare the prestige against men, married men, woman, and married woman.\n"
   ]
  },
  {
   "cell_type": "markdown",
   "id": "13688fb6-4efb-4331-a9f8-75a798aee1fd",
   "metadata": {},
   "source": [
    "--- \n",
    "\n",
    "# **2. Diamond Data Set**\n",
    "\n",
    "Next, we will focus our attention on the *Diamond* data set. Questions to answer about the diamond dataset include:\n",
    "1. Comparing the carat of the price of the diamond (histogram)\n",
    "2. Color (one hot encoded) compared to clarity (kernal estimation)\n",
    "3. QUESTION3 (PLOTTYPE)"
   ]
  },
  {
   "cell_type": "markdown",
   "id": "e6d1cbe7-e835-4ac8-bbbf-b0fb8beccede",
   "metadata": {},
   "source": [
    "## Distribution Plot"
   ]
  },
  {
   "cell_type": "code",
   "execution_count": null,
   "id": "b251dbe3",
   "metadata": {},
   "outputs": [],
   "source": [
    "# Question 1 price of the diamond (kernal estimation)\n",
    "\n",
    "# adjust bandwidth with bw_adjust to make graph easier to read/interpret\n",
    "sns.kdeplot(diamonds.price ,color='hotpink',fill=True, bw_adjust= .2, cut= 0)\n",
    "plt.xlabel ('Price')\n",
    "plt.suptitle('Distribution of Diamond Prices')"
   ]
  },
  {
   "cell_type": "markdown",
   "id": "568af5b0-c733-4044-a64b-b85cf3c562db",
   "metadata": {},
   "source": [
    "---\n",
    "\n",
    "## Violin Plot"
   ]
  },
  {
   "cell_type": "code",
   "execution_count": null,
   "id": "d2479b34",
   "metadata": {},
   "outputs": [],
   "source": [
    "# Question 2 Color (one hot encoded) compared to clarity (kernal estimation)\n",
    "\n",
    "diamonds = pd.read_csv(\"diamonds.csv\")\n",
    "\n",
    "# Create violin plot\n",
    "plt.figure(figsize=(10,6))\n",
    "sns.violinplot(data=diamonds, x='color', y='price', order=sorted(diamonds['color'].unique()))\n",
    "\n",
    "# Set labels and title\n",
    "plt.xlabel('Color')\n",
    "plt.ylabel('Price')\n",
    "plt.title('Violin Plot of Diamond Prices by Color')\n",
    "\n",
    "# Show the plot\n",
    "plt.show()"
   ]
  },
  {
   "cell_type": "markdown",
   "id": "c8dacbcb-c051-49b0-8265-c34ff096aecd",
   "metadata": {},
   "source": [
    "---\n",
    "\n",
    "## Ridgeline Plot"
   ]
  },
  {
   "cell_type": "code",
   "execution_count": null,
   "id": "7a72d53a-29c1-4deb-bed9-4d12c06c4be6",
   "metadata": {},
   "outputs": [],
   "source": [
    "# Add new cubed volume column\n",
    "diamonds['volume'] = diamonds['x'] * diamonds['y'] * diamonds['z']\n",
    "\n",
    "colors = [\"#FDAE61\", \"#FEE08B\", \"#FFFFBF\", \"#E6F598\", \"#ABDDA4\"]\n",
    "\n",
    "# Creates ridgeline plot\n",
    "fig, axes = joypy.joyplot(\n",
    "    diamonds,\n",
    "    by=\"cut\",\n",
    "    column=\"volume\",\n",
    "    figsize=(10, 6),\n",
    "    linewidth=.3,\n",
    "    linecolor=\"white\",\n",
    "    grid = True,\n",
    "    color = colors, \n",
    "    background = \"#fafafa\" #super light gray background\n",
    ")\n",
    "\n",
    "# changes x-axis limit (xlim did not work when creating graph)\n",
    "for ax in axes:\n",
    "    ax.set_xlim(0, 850)\n",
    "    ax.set_xticks(np.arange(0, 900, 800/10))\n",
    "\n",
    "# Set titles and labels\n",
    "plt.title(\"Ridgeline Plot of Diamond Cubed Volume by Cut\")\n",
    "axes[-1].set_xlabel(\"Diamond Cubed Volume\") \n",
    "\n",
    "# Show plot\n",
    "plt.show()"
   ]
  },
  {
   "cell_type": "markdown",
   "id": "5f64c316-bc76-4f0c-a611-731daffe063d",
   "metadata": {},
   "source": [
    "Most diamonds fall between the 0-400 cubed volume range, however, several outliers exist with the largest one striking a volume of 3840. These extreme outliers were cut from the graph due to their distribution not being visible. Regardless, it is important to keep them in mind."
   ]
  },
  {
   "cell_type": "markdown",
   "id": "a768e44e-92a2-4b9c-ac3c-459e46635791",
   "metadata": {},
   "source": [
    "---\n",
    "\n",
    "## **3. Recent news-source plots**\n",
    "\n",
    "Next, we will evaluate amount and distribution data plots and their effectiveness to display data for the given question. It is important to stay mindful of the Trifecta Checkup framework to keep track of the question and goal the graph is attempting to visualize.\n",
    "\n",
    "1. Cyber Attacks in the U.S.](https://usafacts.org/articles/how-many-cyber-attacks-occur-in-the-us/) (Amount dataplot)\n",
    "2. Distribution dataplot (link here)\n"
   ]
  },
  {
   "cell_type": "markdown",
   "id": "7dce56e7-79c3-4f1a-bcca-eb58316e2f22",
   "metadata": {},
   "source": [
    "## Amount Plot\n",
    "\n",
    "#### [Cyber Attacks in the U.S.](https://usafacts.org/articles/how-many-cyber-attacks-occur-in-the-us/)\n",
    "\n",
    "<img src=\"cyberAttacks.png\" alt=\"Alt Text\" title=\"Cyber Attack Amounts in the US\" width=\"610\" height=\"600\" />\n",
    "\n",
    "This graph intrigued me through its relevance and importance in computer science. Cyber security is a crucial aspect of keeping our personal data safe, and this graph visualizes how these types of attacks are becoming more prominant. \n",
    "    First, is the data used for this graph reliable and relevant? Since the data was sourced directly from the Federal Bureau of Investigation, companies often report cyber-attacks to them through the FBI's Internet Crime Complaint Center.\n",
    "    The data is both relevant and accurate to the question the graph is trying to pose. Next, is that chart accurately projecting the data? This chart effectively represents the data: it clearly distinguishes each year, the y-axis begins at zero and increments every 200k until 800k which is roughly the peak, and each bar has the actual number of attacks from that year. Yes, the graph accurately represents the data provided. \n",
    "    Finally, does the graph pose a practical question and is there a story? Yes, cyber-attacks are becoming increasingly relevant with the shift in technology. The data illustrates an intresting story as well. We can see an enormous growth in number of attacks betwen 2019 and 2020. The pandemic occur March 2020; since the lockdowns, people heavily relied on technology for education, work, and social life. It is only natural for cyber-attacks to thrive in that environment. In 2022, we see a subtly decrease in attacks. This might be due to society's focus on technology loosening. \n",
    "    This graph is spectacular and I cannot imagine any improvements that could further benefit the data it is trying to represent."
   ]
  },
  {
   "cell_type": "markdown",
   "id": "7c0ad602-4801-4c9f-99d2-adb3646c43dd",
   "metadata": {},
   "source": [
    "---\n",
    "\n",
    "## Distribution Plot\n",
    "\n",
    "#### [It's Not Your Imagination. Summers Are Getting Hotter.](https://www.nytimes.com/interactive/2023/climate/extreme-summer-heat.html)\n",
    "\n",
    "<img src=\"summerTemps.png\" alt=\"Overlapping desnsity plots comparing the distribution of temperatures during summer months (June-August) during the timelines of 1951-1980 and 2013-2023\" title=\"Summer Temperatures\" width=\"610\" height=\"400\" />\n",
    "\n",
    "    This visual seeks to address a very clear and practical question, which asks whether summers in the Northern Hemisphere are truly getting warmer, as seems to be the impression coming from many news sources as well as first-hand accounts of individuals living in this region. The graph's data is not only relevant with values being displayed through the year 2023, but the data comes from a very reliable news source, the Goddard Institute for Space Studies (GISS) Surface Temperature Analysis. GISS is a part of NASA, and therefore a quite trustworthy source.\n",
    "    This visual strongly supports the article's title, as it is clear that much of the distribution has shifted to the far right temperatures, with a much greater portion of the temperature distribution being in the 'Extremely hot' category.\n",
    "    These overlapped density plots are well-explained with labels and easy to understand with the aid of other aesthetics, as well. The colors blue, gray, orange, and red are used to distinguish four categories of temperature: cold, normal, hot, and extremely hot. These colors are well-chosen to match colors people likely associate with the described temperature categories. Additionally, the reader's attention is drawn to the most recent years by coloring the range of 2013-2023, while the oldest time range (1951-1980) remains gray. A label on the left also explains that, the higher the density plot goes, the more frequent values in that range are."
   ]
  },
  {
   "cell_type": "code",
   "execution_count": null,
   "id": "3bf3709b-5dcb-4658-ae5c-aa43fdb1a741",
   "metadata": {},
   "outputs": [],
   "source": []
  }
 ],
 "metadata": {
  "kernelspec": {
   "display_name": "Python 3 (ipykernel)",
   "language": "python",
   "name": "python3"
  },
  "language_info": {
   "codemirror_mode": {
    "name": "ipython",
    "version": 3
   },
   "file_extension": ".py",
   "mimetype": "text/x-python",
   "name": "python",
   "nbconvert_exporter": "python",
   "pygments_lexer": "ipython3",
   "version": "3.11.5"
  }
 },
 "nbformat": 4,
 "nbformat_minor": 5
}
